{
 "cells": [
  {
   "cell_type": "code",
   "execution_count": 1,
   "metadata": {},
   "outputs": [],
   "source": [
    "import requests\n",
    "import pandas as pd\n",
    "from concurrent.futures import ThreadPoolExecutor, as_completed\n",
    "from tqdm import tqdm "
   ]
  },
  {
   "cell_type": "code",
   "execution_count": 2,
   "metadata": {},
   "outputs": [],
   "source": [
    "category_master = pd.read_csv('../menu2.csv')\n",
    "\n",
    "categories = ['F1600000','F11600000','F1700000','F1500000','F6000000','F1610000','F1200000','NF3000000','NF2000000','F1000000','NF8000000','F1100000','NF7000000']\n",
    "\n",
    "subcategories = category_master[category_master['L1_ID'].isin(categories)]['L3_ID'].to_list()\n",
    "\n",
    "params = {\n",
    "    'filter': '',\n",
    "    'sortBy': 'relevance',\n",
    "    'currentPage': 0,\n",
    "    'pageSize': 60,\n",
    "    'maxPrice': '',\n",
    "    'minPrice': '',\n",
    "    'areaCode': 'DubaiFestivalCity-Dubai',\n",
    "    'lang': 'en',\n",
    "    'displayCurr': 'AED',\n",
    "    'latitude': '25.2107038',\n",
    "    'longitude': '55.2755447',\n",
    "    'needVariantsData': 'true',\n",
    "    'nextOffset': '',\n",
    "    'requireSponsProducts': 'true',\n",
    "    'responseWithCatTree': 'true',\n",
    "    'depth': '3'\n",
    "}\n",
    "\n",
    "# Headers\n",
    "headers = {\n",
    "    'Accept': '*/*',\n",
    "    'Accept-Encoding': 'gzip, deflate, br',\n",
    "    'Accept-Language': 'en-AE,en-GB;q=0.9,en-US;q=0.8,en;q=0.7',\n",
    "    'Appid': 'Reactweb',\n",
    "    'Credentials': 'include',\n",
    "    'Deviceid': '1298535093.1704889303',\n",
    "    'Env': 'prod',\n",
    "    'If-Modified-Since': 'Wed, 10 Jan 2024 12:21:55 GMT',\n",
    "    'Intent': 'STANDARD',\n",
    "    'Referer': 'https://www.carrefouruae.com',\n",
    "    'Sec-Ch-Ua': '\"Not_A Brand\";v=\"8\", \"Chromium\";v=\"120\", \"Google Chrome\";v=\"120\"',\n",
    "    'Sec-Ch-Ua-Mobile': '?0',\n",
    "    'Sec-Ch-Ua-Platform': '\"Windows\"',\n",
    "    'Sec-Fetch-Dest': 'empty',\n",
    "    'Sec-Fetch-Mode': 'cors',\n",
    "    'Sec-Fetch-Site': 'same-origin',\n",
    "    'Storeid': 'mafuae',\n",
    "    'Token': 'undefined',\n",
    "    'User-Agent': 'Mozilla/5.0 (Windows NT 10.0; Win64; x64) AppleWebKit/537.36 (KHTML, like Gecko) Chrome/120.0.0.0 Safari/537.36',\n",
    "    'Userid': '2127C657-51AB-0352-DE99-EA65C2F3CC1D'\n",
    "}"
   ]
  },
  {
   "cell_type": "code",
   "execution_count": 3,
   "metadata": {},
   "outputs": [],
   "source": [
    "def fetch_category_data(cat):\n",
    "    url = f'https://www.carrefouruae.com/api/v8/categories/{cat}'\n",
    "    params['currentPage'] = 0\n",
    "    response = requests.get(url, headers=headers, params=params)\n",
    "    df_list = []\n",
    "    try:\n",
    "        response_json = response.json()\n",
    "        if 'products' in response_json:\n",
    "            df_list.append(pd.json_normalize(response_json['products']))\n",
    "        for page in range(1, int(response_json.get('numOfPages', 1))):\n",
    "            params['currentPage'] = page\n",
    "            response = requests.get(url, headers=headers, params=params)\n",
    "            response_json = response.json()\n",
    "            df_list.append(pd.json_normalize(response_json['products']))\n",
    "        return pd.concat(df_list, ignore_index=True) if df_list else pd.DataFrame()\n",
    "    except Exception as e:\n",
    "        print(f\"Error processing category {cat}: {e}\")\n",
    "        return pd.DataFrame()"
   ]
  },
  {
   "cell_type": "code",
   "execution_count": 5,
   "metadata": {},
   "outputs": [],
   "source": [
    "def main():\n",
    "    results = []\n",
    "    with ThreadPoolExecutor(max_workers=5) as executor:\n",
    "        future_to_cat = {executor.submit(fetch_category_data, cat): cat for cat in subcategories}\n",
    "        for future in tqdm(as_completed(future_to_cat), total=len(future_to_cat)):\n",
    "            cat_results = future.result()\n",
    "            if not cat_results.empty:\n",
    "                results.append(cat_results)  # Append DataFrame to results list\n",
    "\n",
    "    if results:  # Check if the list is not empty\n",
    "        # final_df = pd.concat(results, ignore_index=True)\n",
    "        return results\n",
    "        # print(f\"Data collected, shape of final DataFrame: {final_df.shape}\")\n",
    "        # final_df.to_csv('final_df3.csv')\n",
    "    else:\n",
    "        print(\"No data to save.\")"
   ]
  },
  {
   "cell_type": "code",
   "execution_count": 6,
   "metadata": {},
   "outputs": [
    {
     "name": "stderr",
     "output_type": "stream",
     "text": [
      "100%|██████████| 495/495 [04:19<00:00,  1.91it/s]\n"
     ]
    }
   ],
   "source": [
    "results = main()"
   ]
  },
  {
   "cell_type": "code",
   "execution_count": 9,
   "metadata": {},
   "outputs": [],
   "source": [
    "final_df = pd.concat(results, ignore_index=True)"
   ]
  },
  {
   "cell_type": "code",
   "execution_count": 11,
   "metadata": {},
   "outputs": [
    {
     "data": {
      "text/plain": [
       "(66597, 68)"
      ]
     },
     "execution_count": 11,
     "metadata": {},
     "output_type": "execute_result"
    }
   ],
   "source": [
    "final_df.shape"
   ]
  }
 ],
 "metadata": {
  "kernelspec": {
   "display_name": "venv",
   "language": "python",
   "name": "python3"
  },
  "language_info": {
   "codemirror_mode": {
    "name": "ipython",
    "version": 3
   },
   "file_extension": ".py",
   "mimetype": "text/x-python",
   "name": "python",
   "nbconvert_exporter": "python",
   "pygments_lexer": "ipython3",
   "version": "3.8.5"
  }
 },
 "nbformat": 4,
 "nbformat_minor": 2
}
